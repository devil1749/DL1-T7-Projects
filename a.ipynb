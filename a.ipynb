{
 "cells": [
  {
   "cell_type": "code",
   "execution_count": 1,
   "metadata": {
    "colab": {
     "base_uri": "https://localhost:8080/"
    },
    "id": "BqfRTggagWeh",
    "outputId": "89647a86-a5b3-4c6f-e821-eeb9fd32ace1"
   },
   "outputs": [
    {
     "name": "stdout",
     "output_type": "stream",
     "text": [
      "accuracy : 0.8447754459344317\n",
      "[[3. ]\n",
      " [2.1]\n",
      " [5.4]\n",
      " [3.2]\n",
      " [5.2]]\n",
      "[38.5 14.2 88.3 27.7 65.2]\n",
      "[23.32187143  4.27821617 74.10495212 27.55379482 69.87302873]\n"
     ]
    }
   ],
   "source": [
    "#import packages\n",
    "import pandas as pd \n",
    "from sklearn.model_selection import train_test_split\n",
    "from sklearn.linear_model import LinearRegression\n",
    "\n",
    "#1. Take data and parse it\n",
    "data = pd.read_csv('weight_data.csv')\n",
    "height_x = data.iloc[:,:-1].values\n",
    "weight_y = data.iloc[:,1].values\n",
    "\n",
    "train_height,test_height,train_weight,test_weight = train_test_split(height_x,weight_y,test_size=1/5)\n",
    "\n",
    "#2. Use parsed data for training\n",
    "model = LinearRegression()\n",
    "model.fit(train_height,train_weight)\n",
    "\n",
    "#3. Do predictions\n",
    "pred_result = model.predict(test_height)\n",
    "\n",
    "print(\"accuracy :\",model.score(test_height,test_weight))\n",
    "\n",
    "print(test_height)\n",
    "print(test_weight)\n",
    "print(pred_result)"
   ]
  },
  {
   "cell_type": "code",
   "execution_count": null,
   "metadata": {
    "id": "1eEhsHvYg5Jq"
   },
   "outputs": [],
   "source": []
  },
  {
   "cell_type": "code",
   "execution_count": null,
   "metadata": {},
   "outputs": [],
   "source": []
  },
  {
   "cell_type": "code",
   "execution_count": null,
   "metadata": {},
   "outputs": [],
   "source": []
  }
 ],
 "metadata": {
  "colab": {
   "collapsed_sections": [],
   "name": "Hello.ipynb",
   "provenance": []
  },
  "kernelspec": {
   "display_name": "Python 3",
   "language": "python",
   "name": "python3"
  },
  "language_info": {
   "codemirror_mode": {
    "name": "ipython",
    "version": 3
   },
   "file_extension": ".py",
   "mimetype": "text/x-python",
   "name": "python",
   "nbconvert_exporter": "python",
   "pygments_lexer": "ipython3",
   "version": "3.8.5"
  }
 },
 "nbformat": 4,
 "nbformat_minor": 1
}
